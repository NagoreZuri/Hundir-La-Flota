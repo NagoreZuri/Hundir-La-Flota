{
 "cells": [
  {
   "cell_type": "markdown",
   "metadata": {},
   "source": [
    "## Ejercicio Extra HLF\n",
    "Vamos a empezar a programar trozos de código que nos servirán para el HLF:\n",
    "\n",
    "* Crear un Tablero como una lista de listas de 10x10 que contenga caracteres espacio: \" \"\n",
    "* Insertar dos barcos sustituyendo en el Tablero los espacios en blanco por el caracter \"B\":\n",
    "    * Uno de 4 casillas en horizontal: casillas [1][0], [1][1], [1][2], [1][3]\n",
    "    * Uno de 3 casillas en vertical:   casillas [3][3], [4][3], [4][4], [4][5]\n",
    "* Escribir una celda de código separada de las anteriores para simular que el usuario está efectuando un disparo: \n",
    "    *  Solicite al usuario dos coordenadas `i,j` mediante dos inputs\n",
    "    *  Compruebe si esas coordenadas están ocupada por una casilla barco (que haya una en \"B\")\n",
    "        * Si hay una \"B\":\n",
    "            * Cambiar el contenido de esa posición por una \"x\"\n",
    "            * Imprimir por pantalla el texto \"Tocado en posición `i,j`\"\n",
    "        * Si hay un \" \":\n",
    "            * Cambiar el contenido de esa posición por una \"o\"\n",
    "            * Imprimir por pantalla el texto \"Agua\"\n",
    "    * Imprimir por pantalla el Tablero\n",
    "* Para comprobar que funciona bien la celda de disparar ejecutarla varias veces metiendo distintas coordenadas\n",
    "\n",
    "### Bonus\n",
    "* En la celda de disparar, si el usuario acierta a tocar un barco, vuelve a disparar\n",
    "* Restilizando funciones\n",
    "    \n"
   ]
  },
  {
   "cell_type": "code",
   "execution_count": 13,
   "metadata": {},
   "outputs": [],
   "source": [
    "import pprint\n",
    "import random \n",
    "import time\n",
    "import os"
   ]
  },
  {
   "cell_type": "code",
   "execution_count": null,
   "metadata": {},
   "outputs": [],
   "source": [
    "def crear_tablero():\n",
    "    tablero = []\n",
    "    columnas = [\"   a\", \"b\", \"c\", \"d\", \"e\", \"f\", \"g\", \"h\", \"i\", \"j\"]\n",
    "    tablero.append(columnas)\n",
    "    filas = [1, 2, 3, 4, 5, 6, 7, 8, 9, 10]\n",
    "    for i in range(0, 10):\n",
    "        linea = []\n",
    "        linea.append(i + 1)\n",
    "        for j in range(0, 10):\n",
    "            linea.append(\" \")\n",
    "        tablero.append(linea)\n",
    "    return tablero\n",
    "\n",
    "\n",
    "\n",
    "def mensaje_bienvenida():\n",
    "    #TAMANO = 10\n",
    "    # tablero_usuario = crear_tablero(TAMANO) #crear tablero con el tamaño deseado\n",
    "    print(\"Bienvenido al juego de HLF. Aquí tienes tu tablero:\\n\")\n",
    "    #for fila in tablero_usuario:\n",
    "        #print(fila)\n",
    "        \n",
    "tablero = crear_tablero()\n",
    "\n",
    "\n"
   ]
  },
  {
   "cell_type": "code",
   "execution_count": 15,
   "metadata": {},
   "outputs": [
    {
     "data": {
      "text/plain": [
       "[['   a', 'b', 'c', 'd', 'e', 'f', 'g', 'h', 'i', 'j'],\n",
       " [1, ' ', ' ', ' ', ' ', ' ', ' ', ' ', ' ', ' ', ' '],\n",
       " [2, ' ', ' ', ' ', ' ', ' ', ' ', ' ', ' ', ' ', ' '],\n",
       " [3, ' ', ' ', ' ', ' ', ' ', ' ', ' ', ' ', ' ', ' '],\n",
       " [4, ' ', ' ', ' ', ' ', ' ', ' ', ' ', ' ', ' ', ' '],\n",
       " [5, ' ', ' ', ' ', ' ', ' ', ' ', ' ', ' ', ' ', ' '],\n",
       " [6, ' ', ' ', ' ', ' ', ' ', ' ', ' ', ' ', ' ', ' '],\n",
       " [7, ' ', ' ', ' ', ' ', ' ', ' ', ' ', ' ', ' ', ' '],\n",
       " [8, ' ', ' ', ' ', ' ', ' ', ' ', ' ', ' ', ' ', ' '],\n",
       " [9, ' ', ' ', ' ', ' ', ' ', ' ', ' ', ' ', ' ', ' '],\n",
       " [10, ' ', ' ', ' ', ' ', ' ', ' ', ' ', ' ', ' ', ' ']]"
      ]
     },
     "execution_count": 15,
     "metadata": {},
     "output_type": "execute_result"
    }
   ],
   "source": [
    "# TAREA!!! PRIMERO DE TOT, CORREGIR LOS + 1 DE LA COLOCACION DE BARCOS MANUALES Y DE LOS DISPAROS!!!!!\n",
    "\n",
    "tablero"
   ]
  },
  {
   "cell_type": "code",
   "execution_count": 16,
   "metadata": {},
   "outputs": [
    {
     "name": "stdout",
     "output_type": "stream",
     "text": [
      "Bienvenido al juego de HLF. Aquí tienes tu tablero:\n",
      "\n"
     ]
    },
    {
     "data": {
      "text/plain": [
       "[['   a', 'b', 'c', 'd', 'e', 'f', 'g', 'h', 'i', 'j'],\n",
       " [1, ' ', ' ', ' ', ' ', ' ', ' ', ' ', ' ', ' ', ' '],\n",
       " [2, ' ', ' ', ' ', ' ', ' ', ' ', ' ', ' ', ' ', ' '],\n",
       " [3, ' ', ' ', ' ', ' ', ' ', ' ', ' ', ' ', ' ', ' '],\n",
       " [4, ' ', ' ', ' ', ' ', ' ', ' ', ' ', ' ', ' ', ' '],\n",
       " [5, ' ', ' ', ' ', ' ', ' ', ' ', ' ', ' ', ' ', ' '],\n",
       " [6, ' ', ' ', ' ', ' ', ' ', ' ', ' ', ' ', ' ', ' '],\n",
       " [7, ' ', ' ', ' ', ' ', ' ', ' ', ' ', ' ', ' ', ' '],\n",
       " [8, ' ', ' ', ' ', ' ', ' ', ' ', ' ', ' ', ' ', ' '],\n",
       " [9, ' ', ' ', ' ', ' ', ' ', ' ', ' ', ' ', ' ', ' '],\n",
       " [10, ' ', ' ', ' ', ' ', ' ', ' ', ' ', ' ', ' ', ' ']]"
      ]
     },
     "execution_count": 16,
     "metadata": {},
     "output_type": "execute_result"
    }
   ],
   "source": [
    "mensaje_bienvenida()\n",
    "tablero_computer = crear_tablero()\n",
    "\n",
    "tablero_computer"
   ]
  },
  {
   "cell_type": "code",
   "execution_count": 17,
   "metadata": {},
   "outputs": [
    {
     "data": {
      "text/plain": [
       "[['   a', 'b', 'c', 'd', 'e', 'f', 'g', 'h', 'i', 'j'],\n",
       " [1, ' ', ' ', ' ', ' ', ' ', ' ', ' ', ' ', ' ', ' '],\n",
       " [2, ' ', ' ', ' ', ' ', ' ', ' ', ' ', ' ', ' ', ' '],\n",
       " [3, ' ', ' ', ' ', ' ', ' ', ' ', ' ', ' ', ' ', ' '],\n",
       " [4, ' ', ' ', ' ', ' ', ' ', ' ', ' ', ' ', ' ', ' '],\n",
       " [5, ' ', ' ', ' ', ' ', ' ', ' ', ' ', ' ', ' ', ' '],\n",
       " [6, ' ', ' ', ' ', ' ', ' ', ' ', ' ', ' ', ' ', ' '],\n",
       " [7, ' ', ' ', ' ', ' ', ' ', ' ', ' ', ' ', ' ', ' '],\n",
       " [8, ' ', ' ', ' ', ' ', ' ', ' ', ' ', ' ', ' ', ' '],\n",
       " [9, ' ', ' ', ' ', ' ', ' ', ' ', ' ', ' ', ' ', ' '],\n",
       " [10, ' ', ' ', ' ', ' ', ' ', ' ', ' ', ' ', ' ', ' ']]"
      ]
     },
     "execution_count": 17,
     "metadata": {},
     "output_type": "execute_result"
    }
   ],
   "source": [
    "tablero_computer_visualizar = crear_tablero()\n",
    "tablero_computer_visualizar"
   ]
  },
  {
   "cell_type": "code",
   "execution_count": 18,
   "metadata": {},
   "outputs": [
    {
     "data": {
      "text/plain": [
       "[['   a', 'b', 'c', 'd', 'e', 'f', 'g', 'h', 'i', 'j'],\n",
       " [1, ' ', ' ', ' ', ' ', ' ', ' ', ' ', ' ', ' ', ' '],\n",
       " [2, ' ', ' ', ' ', ' ', ' ', 'B', ' ', ' ', ' ', ' '],\n",
       " [3, ' ', ' ', 'B', 'B', ' ', ' ', ' ', 'B', ' ', ' '],\n",
       " [4, 'B', ' ', 'B', 'B', ' ', ' ', ' ', ' ', ' ', ' '],\n",
       " [5, ' ', ' ', 'B', 'B', ' ', ' ', ' ', ' ', 'B', ' '],\n",
       " [6, ' ', 'B', 'B', ' ', ' ', ' ', ' ', ' ', 'B', ' '],\n",
       " [7, ' ', ' ', ' ', ' ', ' ', ' ', ' ', ' ', 'B', ' '],\n",
       " [8, ' ', ' ', ' ', ' ', 'B', 'B', ' ', ' ', ' ', ' '],\n",
       " [9, ' ', ' ', ' ', ' ', ' ', ' ', ' ', 'B', 'B', ' '],\n",
       " [10, ' ', ' ', 'B', 'B', ' ', ' ', ' ', ' ', ' ', ' ']]"
      ]
     },
     "execution_count": 18,
     "metadata": {},
     "output_type": "execute_result"
    }
   ],
   "source": [
    "#vamos a posicionar los barcos FIJOS del computer  LUEGO podemos probar con la opción de barcos aleatorios\n",
    "\n",
    "\n",
    "def posicionar_barcos_fijos(tablero_computer):\n",
    "    # Colocando barco1\n",
    "    tablero_computer[3][3] = \"B\"\n",
    "    tablero_computer[4][3] = \"B\"\n",
    "    tablero_computer[5][3] = \"B\"\n",
    "    tablero_computer[6][3] = \"B\"\n",
    "    #Colocando barco2\n",
    "    tablero_computer[3][4] = \"B\"\n",
    "    tablero_computer[4][4] = \"B\" \n",
    "    tablero_computer[5][4] = \"B\"\n",
    "    #barco3\n",
    "    tablero_computer[3][8] = \"B\"\n",
    "    #barc4\n",
    "    tablero_computer[2][6] = \"B\"\n",
    "    #barco5\n",
    "    tablero_computer[6][2] = \"B\"\n",
    "    #barco6\n",
    "    tablero_computer[4][1] = \"B\"\n",
    "    #barco7\n",
    "    tablero_computer[10][3] = \"B\"\n",
    "    tablero_computer[10][4] = \"B\"\n",
    "    #barco8\n",
    "    tablero_computer[8][5] = \"B\"\n",
    "    tablero_computer[8][6] = \"B\"\n",
    "    #barco9\n",
    "    tablero_computer[9][8] = \"B\"\n",
    "    tablero_computer[9][9] = \"B\"\n",
    "    #barco10\n",
    "    tablero_computer[5][9] = \"B\"\n",
    "    tablero_computer[6][9] = \"B\"\n",
    "    tablero_computer[7][9] = \"B\"\n",
    "    \n",
    "    \n",
    "    return tablero_computer\n",
    "\n",
    "posicionar_barcos_fijos(tablero_computer)\n"
   ]
  },
  {
   "cell_type": "code",
   "execution_count": null,
   "metadata": {},
   "outputs": [],
   "source": []
  },
  {
   "cell_type": "code",
   "execution_count": 19,
   "metadata": {},
   "outputs": [
    {
     "name": "stdout",
     "output_type": "stream",
     "text": [
      "Vamos a añadir tus barcos\n"
     ]
    }
   ],
   "source": [
    "#ahora vamos a intentar conseguir que el usuario pueda añadir sus propios barcos!\n",
    "print(\"Vamos a añadir tus barcos\")\n",
    "\n",
    "def colocar_barcos_usuario(tablero):\n",
    "    #rint(\"Primero añadiremos el porta-aviones\") \n",
    "    os.system(\"cls\")\n",
    "    barcos_size = [4,3,3,2,2,2,1,1,1,1]\n",
    "    for z in range(len(barcos_size)):\n",
    "        os.system(\"cls\")\n",
    "        \n",
    "        #while True:\n",
    "            \n",
    "        pprint.pprint(tablero)\n",
    "        fila1 = int(input(\"Dame el número de fila donde quieres colocarlo (1-10):\"))\n",
    "        columna1 = input(\"Ahora dame la letra de la columna donde lo quieres (a-j):\").lower()\n",
    "        orientacion = input(\"Dime hacia donde lo quieres crear: Escribe uno: N, S, E, O\").upper()\n",
    "            \n",
    "        # Convertimos la letra de la columna a índice\n",
    "        columna1 = ord(columna1) - ord('a')  # Convierte de letra a índice (1-10)\n",
    "        \n",
    "        \n",
    "        # Verificamos si las coordenadas están dentro de los límites del tablero\n",
    "        if not (0 <= fila1 < 11 and 0 <= columna1 < 11):\n",
    "            print(\"Coordenadas fuera de los límites. Intentalo de nuevo.\")\n",
    "            return tablero\n",
    "        \n",
    "        # Ahora comprobamos si hay suficiente espacio para colocar el barco\n",
    "        \n",
    "        if orientacion == \"S\":\n",
    "            if 11 < fila1 <= 0:\n",
    "                print(\"No hay suficiente espacio.\")\n",
    "                #Como puedo hacer para mandarlo de nuevo a introducir coordenadas???\n",
    "            else:\n",
    "                for i in range(barcos_size[z]):\n",
    "                    #print(range(barcos_size[z]))\n",
    "                    #print(barcos_size[z])\n",
    "                    tablero[fila1 + i][columna1 + 1] = \"B\"\n",
    "        elif orientacion == \"N\":\n",
    "            if 10 < fila1 < 0:\n",
    "                print(\"No hay suficiente espacio.\")\n",
    "            else:\n",
    "                for i in range(barcos_size[z]):\n",
    "                    tablero[fila1 - i][columna1 + 1] = \"B\"\n",
    "        elif orientacion == \"E\":\n",
    "            if 10 < fila1 < 0:\n",
    "                print(\"No hay suficiente espacio.\")\n",
    "            else:\n",
    "                for i in range(barcos_size[z]):\n",
    "                    tablero [fila1][columna1 + i + 1] = \"B\"\n",
    "        elif orientacion == \"O\":\n",
    "            if 10 < fila1 < 0:\n",
    "                print(\"No hay suficiente espacio.\")\n",
    "            else:\n",
    "                for i in range(barcos_size[z]):\n",
    "                    tablero [fila1][columna1 - i + 1] = \"B\"\n",
    "        time.sleep(1)\n",
    "    return tablero\n",
    "        \n",
    "        "
   ]
  },
  {
   "cell_type": "code",
   "execution_count": 20,
   "metadata": {},
   "outputs": [
    {
     "name": "stdout",
     "output_type": "stream",
     "text": [
      "[['   a', 'b', 'c', 'd', 'e', 'f', 'g', 'h', 'i', 'j'],\n",
      " [1, ' ', ' ', ' ', ' ', ' ', ' ', ' ', ' ', ' ', ' '],\n",
      " [2, ' ', ' ', ' ', ' ', ' ', ' ', ' ', ' ', ' ', ' '],\n",
      " [3, ' ', ' ', ' ', ' ', ' ', ' ', ' ', ' ', ' ', ' '],\n",
      " [4, ' ', ' ', ' ', ' ', ' ', ' ', ' ', ' ', ' ', ' '],\n",
      " [5, ' ', ' ', ' ', ' ', ' ', ' ', ' ', ' ', ' ', ' '],\n",
      " [6, ' ', ' ', ' ', ' ', ' ', ' ', ' ', ' ', ' ', ' '],\n",
      " [7, ' ', ' ', ' ', ' ', ' ', ' ', ' ', ' ', ' ', ' '],\n",
      " [8, ' ', ' ', ' ', ' ', ' ', ' ', ' ', ' ', ' ', ' '],\n",
      " [9, ' ', ' ', ' ', ' ', ' ', ' ', ' ', ' ', ' ', ' '],\n",
      " [10, ' ', ' ', ' ', ' ', ' ', ' ', ' ', ' ', ' ', ' ']]\n"
     ]
    },
    {
     "ename": "ValueError",
     "evalue": "invalid literal for int() with base 10: ''",
     "output_type": "error",
     "traceback": [
      "\u001b[31m---------------------------------------------------------------------------\u001b[39m",
      "\u001b[31mValueError\u001b[39m                                Traceback (most recent call last)",
      "\u001b[36mCell\u001b[39m\u001b[36m \u001b[39m\u001b[32mIn[20]\u001b[39m\u001b[32m, line 1\u001b[39m\n\u001b[32m----> \u001b[39m\u001b[32m1\u001b[39m \u001b[43mcolocar_barcos_usuario\u001b[49m\u001b[43m(\u001b[49m\u001b[43mtablero\u001b[49m\u001b[43m)\u001b[49m\n",
      "\u001b[36mCell\u001b[39m\u001b[36m \u001b[39m\u001b[32mIn[19]\u001b[39m\u001b[32m, line 14\u001b[39m, in \u001b[36mcolocar_barcos_usuario\u001b[39m\u001b[34m(tablero)\u001b[39m\n\u001b[32m     11\u001b[39m \u001b[38;5;66;03m#while True:\u001b[39;00m\n\u001b[32m     13\u001b[39m pprint.pprint(tablero)\n\u001b[32m---> \u001b[39m\u001b[32m14\u001b[39m fila1 = \u001b[38;5;28;43mint\u001b[39;49m\u001b[43m(\u001b[49m\u001b[38;5;28;43minput\u001b[39;49m\u001b[43m(\u001b[49m\u001b[33;43m\"\u001b[39;49m\u001b[33;43mDame el número de fila donde quieres colocarlo (1-10):\u001b[39;49m\u001b[33;43m\"\u001b[39;49m\u001b[43m)\u001b[49m\u001b[43m)\u001b[49m\n\u001b[32m     15\u001b[39m columna1 = \u001b[38;5;28minput\u001b[39m(\u001b[33m\"\u001b[39m\u001b[33mAhora dame la letra de la columna donde lo quieres (a-j):\u001b[39m\u001b[33m\"\u001b[39m).lower()\n\u001b[32m     16\u001b[39m orientacion = \u001b[38;5;28minput\u001b[39m(\u001b[33m\"\u001b[39m\u001b[33mDime hacia donde lo quieres crear: Escribe uno: N, S, E, O\u001b[39m\u001b[33m\"\u001b[39m).upper()\n",
      "\u001b[31mValueError\u001b[39m: invalid literal for int() with base 10: ''"
     ]
    }
   ],
   "source": [
    "\n",
    "colocar_barcos_usuario(tablero)"
   ]
  },
  {
   "cell_type": "code",
   "execution_count": null,
   "metadata": {},
   "outputs": [
    {
     "data": {
      "text/plain": [
       "9"
      ]
     },
     "execution_count": 9,
     "metadata": {},
     "output_type": "execute_result"
    }
   ],
   "source": [
    "9"
   ]
  },
  {
   "cell_type": "code",
   "execution_count": null,
   "metadata": {},
   "outputs": [],
   "source": [
    "def visualizar(tablero):\n",
    "    print(\"Aquí tienes tu tablero con todos tus barcos \\n\")\n",
    "    pprint.pprint(tablero)\n",
    "    \n",
    "    \n",
    "    print(\"\\n Aquí tienes el tablero de tu contrincante para que puedas ver tus disparos \\n\")\n",
    "    pprint.pprint(tablero_computer_visualizar)"
   ]
  },
  {
   "cell_type": "code",
   "execution_count": null,
   "metadata": {},
   "outputs": [
    {
     "name": "stdout",
     "output_type": "stream",
     "text": [
      "Aquí tienes tu tablero con todos tus barcos \n",
      "\n",
      "[['   a', 'b', 'c', 'd', 'e', 'f', 'g', 'h', 'i', 'j'],\n",
      " [1, ' ', ' ', ' ', ' ', ' ', ' ', ' ', ' ', ' ', ' '],\n",
      " [2, ' ', ' ', ' ', ' ', ' ', ' ', ' ', ' ', ' ', ' '],\n",
      " [3, ' ', ' ', 'B', 'B', ' ', 'B', 'B', 'B', 'B', 'B'],\n",
      " [4, ' ', ' ', 'B', 'B', ' ', 'B', 'B', 'B', ' ', ' '],\n",
      " [5, ' ', ' ', 'B', 'B', ' ', 'B', ' ', ' ', ' ', ' '],\n",
      " [6, ' ', ' ', 'B', ' ', ' ', ' ', ' ', ' ', ' ', ' '],\n",
      " [7, ' ', ' ', ' ', ' ', ' ', ' ', ' ', ' ', ' ', ' '],\n",
      " [8, ' ', ' ', ' ', ' ', ' ', ' ', ' ', ' ', ' ', ' '],\n",
      " [9, ' ', 'B', ' ', ' ', ' ', ' ', 'B', ' ', ' ', ' '],\n",
      " [10, ' ', ' ', ' ', ' ', ' ', ' ', ' ', ' ', ' ', ' ']]\n",
      "\n",
      " Aquí tienes el tablero de tu contrincante para que puedas ver tus disparos \n",
      "\n",
      "[['   a', 'b', 'c', 'd', 'e', 'f', 'g', 'h', 'i', 'j'],\n",
      " [1, ' ', ' ', ' ', ' ', ' ', ' ', ' ', ' ', ' ', ' '],\n",
      " [2, ' ', ' ', ' ', ' ', ' ', ' ', ' ', ' ', ' ', ' '],\n",
      " [3, ' ', ' ', ' ', ' ', ' ', ' ', ' ', ' ', ' ', ' '],\n",
      " [4, ' ', ' ', ' ', ' ', ' ', ' ', ' ', ' ', ' ', ' '],\n",
      " [5, ' ', ' ', ' ', ' ', ' ', ' ', ' ', ' ', ' ', ' '],\n",
      " [6, ' ', ' ', ' ', ' ', ' ', ' ', ' ', ' ', ' ', ' '],\n",
      " [7, ' ', ' ', ' ', ' ', ' ', ' ', ' ', ' ', ' ', ' '],\n",
      " [8, ' ', ' ', ' ', ' ', ' ', ' ', ' ', ' ', ' ', ' '],\n",
      " [9, ' ', ' ', ' ', ' ', ' ', ' ', ' ', ' ', ' ', ' '],\n",
      " [10, ' ', ' ', ' ', ' ', ' ', ' ', ' ', ' ', ' ', ' ']]\n"
     ]
    }
   ],
   "source": [
    "visualizar(tablero)"
   ]
  },
  {
   "cell_type": "code",
   "execution_count": null,
   "metadata": {},
   "outputs": [
    {
     "data": {
      "text/plain": [
       "[['   a', 'b', 'c', 'd', 'e', 'f', 'g', 'h', 'i', 'j'],\n",
       " [1, ' ', ' ', ' ', ' ', ' ', ' ', ' ', ' ', ' ', ' '],\n",
       " [2, ' ', ' ', ' ', ' ', ' ', 'B', ' ', ' ', ' ', ' '],\n",
       " [3, ' ', ' ', 'B', 'B', ' ', ' ', ' ', 'B', ' ', ' '],\n",
       " [4, 'B', ' ', 'B', 'B', ' ', ' ', ' ', ' ', ' ', ' '],\n",
       " [5, ' ', ' ', 'B', 'B', ' ', ' ', ' ', ' ', 'B', ' '],\n",
       " [6, ' ', 'B', 'B', ' ', ' ', ' ', ' ', ' ', 'B', ' '],\n",
       " [7, ' ', ' ', ' ', ' ', ' ', ' ', ' ', ' ', 'B', ' '],\n",
       " [8, ' ', ' ', ' ', ' ', 'B', 'B', ' ', ' ', ' ', ' '],\n",
       " [9, ' ', ' ', ' ', ' ', ' ', ' ', ' ', 'B', 'B', ' '],\n",
       " [10, ' ', ' ', 'B', 'B', ' ', ' ', ' ', ' ', ' ', ' ']]"
      ]
     },
     "execution_count": 12,
     "metadata": {},
     "output_type": "execute_result"
    }
   ],
   "source": [
    "tablero_computer"
   ]
  },
  {
   "cell_type": "code",
   "execution_count": null,
   "metadata": {},
   "outputs": [],
   "source": [
    "\n",
    "def disparo_jugador(tablero_computer, tablero_computer_visualizar):\n",
    "    while True:\n",
    "        print(\"disparemos\")\n",
    "        pprint.pprint(tablero_computer_visualizar)\n",
    "        i = int(input(\"Dame el número de fila donde quieres disparar (1-10):\")) \n",
    "        j = input(\"Ahora dame la letra de la columna (a-j):\").lower()\n",
    "        # Convertimos la l3\n",
    "        # etra de la columna a índice\n",
    "        j = ord(j) - ord('a') # Convierte de letra a índice (1-10)\n",
    "        \n",
    "        j = j + 1\n",
    "        if not (0 <= i < 11 and 0 <= j < 11):\n",
    "            print(\"Coordenadas fuera de los límites. Intentalo de nuevo.\")\n",
    "            return True\n",
    "        elif tablero_computer[i][j] == \"B\":\n",
    "            print(\"Tocado!\")   #si la coordenada proporcionada da a una B, es un barco por tanto será TOCADO el mensaje y se sigue jugando\n",
    "            tablero_computer[i][j] = \"X\"\n",
    "            tablero_computer_visualizar[i][j] = \"X\"\n",
    "            pprint.pprint(tablero_computer_visualizar)\n",
    "            print(\"sigue jugando!\")\n",
    "            return True\n",
    "        elif tablero_computer[i][j] == \" \":  # Si la coordenada da un espacio vacío, se pasa el mensaje AGUA y acaba su turno\n",
    "            print(\"Agua\")\n",
    "            tablero_computer[i][j] = \"O\"\n",
    "            tablero_computer_visualizar[i][j] = \"O\"\n",
    "            pprint.pprint(tablero_computer_visualizar)\n",
    "            print(\"Turno de tu oponente\")\n",
    "            return False\n",
    "        else:    #Otra opción es que el usuario repita coordenada y entonces saltará este mensaje y perderá turno\n",
    "            print(\"Ya habías disparado allí\")"
   ]
  },
  {
   "cell_type": "code",
   "execution_count": 26,
   "metadata": {},
   "outputs": [
    {
     "name": "stdout",
     "output_type": "stream",
     "text": [
      "[['   a', 'b', 'c', 'd', 'e', 'f', 'g', 'h', 'i', 'j'],\n",
      " [1, ' ', ' ', ' ', ' ', ' ', ' ', ' ', ' ', ' ', ' '],\n",
      " [2, ' ', ' ', ' ', ' ', ' ', 'B', ' ', ' ', ' ', ' '],\n",
      " [3, ' ', ' ', 'B', 'B', ' ', ' ', ' ', 'B', ' ', ' '],\n",
      " [4, 'B', ' ', 'B', 'B', ' ', ' ', ' ', ' ', ' ', ' '],\n",
      " [5, ' ', ' ', 'B', 'B', ' ', ' ', ' ', ' ', 'B', ' '],\n",
      " [6, ' ', 'B', 'B', ' ', ' ', ' ', ' ', ' ', 'B', 'O'],\n",
      " [7, ' ', ' ', ' ', ' ', ' ', ' ', ' ', ' ', 'B', ' '],\n",
      " [8, ' ', ' ', ' ', ' ', 'B', 'B', ' ', ' ', ' ', ' '],\n",
      " [9, ' ', ' ', ' ', ' ', ' ', ' ', ' ', 'B', 'B', ' '],\n",
      " [10, ' ', ' ', 'B', 'B', ' ', ' ', ' ', ' ', ' ', ' ']]\n"
     ]
    }
   ],
   "source": [
    "pprint.pprint(tablero_computer)"
   ]
  },
  {
   "cell_type": "code",
   "execution_count": null,
   "metadata": {},
   "outputs": [
    {
     "name": "stdout",
     "output_type": "stream",
     "text": [
      "disparemos\n",
      "[['   a', 'b', 'c', 'd', 'e', 'f', 'g', 'h', 'i', 'j'],\n",
      " [1, ' ', ' ', ' ', ' ', ' ', ' ', ' ', ' ', ' ', ' '],\n",
      " [2, ' ', ' ', ' ', ' ', ' ', ' ', ' ', ' ', ' ', ' '],\n",
      " [3, ' ', ' ', ' ', ' ', ' ', ' ', ' ', ' ', ' ', ' '],\n",
      " [4, ' ', ' ', ' ', ' ', ' ', ' ', ' ', ' ', ' ', ' '],\n",
      " [5, ' ', ' ', ' ', ' ', ' ', ' ', ' ', ' ', ' ', ' '],\n",
      " [6, ' ', ' ', ' ', ' ', ' ', ' ', ' ', ' ', ' ', ' '],\n",
      " [7, ' ', ' ', ' ', ' ', ' ', ' ', ' ', ' ', ' ', ' '],\n",
      " [8, ' ', ' ', ' ', ' ', ' ', ' ', ' ', ' ', ' ', ' '],\n",
      " [9, ' ', ' ', ' ', ' ', ' ', ' ', ' ', ' ', ' ', ' '],\n",
      " [10, ' ', ' ', ' ', ' ', ' ', ' ', ' ', ' ', ' ', ' ']]\n",
      "Agua\n",
      "[['   a', 'b', 'c', 'd', 'e', 'f', 'g', 'h', 'i', 'j'],\n",
      " [1, ' ', ' ', ' ', ' ', ' ', ' ', ' ', ' ', ' ', ' '],\n",
      " [2, ' ', ' ', ' ', ' ', ' ', ' ', ' ', ' ', ' ', ' '],\n",
      " [3, ' ', ' ', ' ', ' ', ' ', ' ', ' ', ' ', ' ', ' '],\n",
      " [4, ' ', ' ', ' ', ' ', ' ', ' ', ' ', ' ', ' ', ' '],\n",
      " [5, ' ', ' ', ' ', ' ', ' ', ' ', ' ', ' ', ' ', ' '],\n",
      " [6, ' ', ' ', ' ', ' ', ' ', ' ', ' ', ' ', ' ', 'O'],\n",
      " [7, ' ', ' ', ' ', ' ', ' ', ' ', ' ', ' ', ' ', ' '],\n",
      " [8, ' ', ' ', ' ', ' ', ' ', ' ', ' ', ' ', ' ', ' '],\n",
      " [9, ' ', ' ', ' ', ' ', ' ', ' ', ' ', ' ', ' ', ' '],\n",
      " [10, ' ', ' ', ' ', ' ', ' ', ' ', ' ', ' ', ' ', ' ']]\n",
      "Turno de tu oponente\n"
     ]
    },
    {
     "data": {
      "text/plain": [
       "False"
      ]
     },
     "execution_count": 23,
     "metadata": {},
     "output_type": "execute_result"
    }
   ],
   "source": [
    "disparo_jugador(tablero_computer, tablero_computer_visualizar)"
   ]
  },
  {
   "cell_type": "code",
   "execution_count": 35,
   "metadata": {},
   "outputs": [],
   "source": [
    "def disparo_computer(tablero):\n",
    "    while True:   \n",
    "        i = random.randint(1, 10)\n",
    "        j = random.choice(\"abcdefghij\")\n",
    "        #random.randrange\n",
    "        j = ord(j) - ord('a')\n",
    "        j = j + 1\n",
    "        print(i, j)\n",
    "        \n",
    "        if tablero[i][j] in [\"O\", \"X\"]:\n",
    "        # Si ya se ha disparado ahí, probar de nuevo\n",
    "            return True\n",
    "        if tablero[i][j] == \"B\":\n",
    "            print(\"Tocado!\")   #si la coordenada proporcionada da a una B, es un barco por tanto será TOCADO el mensaje y se sigue jugando\n",
    "            tablero[i][j] = \"X\"\n",
    "            pprint.pprint(tablero)\n",
    "            print(\"El contrincante sigue jugando!\")\n",
    "            time.sleep(2)\n",
    "            return True\n",
    "        elif tablero[i][j] == \" \":  # Si la coordenada da un espacio vacío, se pasa el mensaje AGUA y acaba su turno\n",
    "            print(\"Agua\")\n",
    "            tablero[i][j] = \"O\"\n",
    "            pprint.pprint(tablero)\n",
    "            print(\"Te toca!\")\n",
    "            break   \n",
    "        else:    #Otra opción es que el usuario repita coordenada y entonces saltará este mensaje y perderá turno\n",
    "            print(\"Ya ha disparado allí, volverá a probar\")\n",
    "            return True"
   ]
  },
  {
   "cell_type": "code",
   "execution_count": 39,
   "metadata": {},
   "outputs": [
    {
     "name": "stdout",
     "output_type": "stream",
     "text": [
      "10 7\n",
      "Agua\n",
      "[['   a', 'b', 'c', 'd', 'e', 'f', 'g', 'h', 'i', 'j'],\n",
      " [1, ' ', ' ', ' ', 'O', 'O', 'O', ' ', ' ', ' ', 'O'],\n",
      " [2, ' ', ' ', ' ', ' ', ' ', ' ', ' ', ' ', ' ', ' '],\n",
      " [3, ' ', 'O', ' ', ' ', ' ', ' ', ' ', ' ', ' ', ' '],\n",
      " [4, ' ', 'O', 'O', ' ', ' ', ' ', 'O', ' ', ' ', 'O'],\n",
      " [5, ' ', ' ', 'O', ' ', ' ', ' ', ' ', ' ', ' ', 'O'],\n",
      " [6, ' ', 'O', ' ', ' ', ' ', 'O', ' ', ' ', ' ', ' '],\n",
      " [7, 'O', ' ', ' ', ' ', ' ', ' ', ' ', 'O', ' ', ' '],\n",
      " [8, ' ', ' ', ' ', ' ', 'O', ' ', 'O', ' ', ' ', ' '],\n",
      " [9, ' ', ' ', ' ', ' ', ' ', ' ', ' ', ' ', 'O', ' '],\n",
      " [10, ' ', ' ', 'O', ' ', 'O', 'O', 'O', ' ', 'O', ' ']]\n",
      "Te toca!\n"
     ]
    }
   ],
   "source": [
    "disparo_computer(tablero)"
   ]
  },
  {
   "cell_type": "code",
   "execution_count": 44,
   "metadata": {},
   "outputs": [],
   "source": [
    "#funcion para ver si quedan B de barcos en el tablero tanto de uno como de otro \n",
    "\n",
    "def ganador(tablero, tablero_computer):\n",
    "    for i in tablero:\n",
    "        if \"B\" not in tablero:\n",
    "            print(\"Perdiste! Más suerte la próxima vez\")\n",
    "        break\n",
    "    for i in tablero_computer:\n",
    "        if \"B\"not in tablero_computer:\n",
    "            print(\"GANASTE! ZORIONAK!\")\n",
    "            break"
   ]
  },
  {
   "cell_type": "code",
   "execution_count": 45,
   "metadata": {},
   "outputs": [
    {
     "name": "stdout",
     "output_type": "stream",
     "text": [
      "Perdiste! Más suerte la próxima vez\n",
      "GANASTE! ZORIONAK!\n"
     ]
    }
   ],
   "source": [
    "ganador(tablero, tablero_computer)"
   ]
  },
  {
   "cell_type": "code",
   "execution_count": null,
   "metadata": {},
   "outputs": [
    {
     "name": "stdout",
     "output_type": "stream",
     "text": [
      "[[' ', ' ', ' ', ' ', ' ', 'B', 'B', 'B', ' ', ' '],\n",
      " ['B', 'B', 'B', 'B', ' ', ' ', ' ', ' ', ' ', ' '],\n",
      " [' ', ' ', ' ', ' ', ' ', ' ', ' ', ' ', ' ', ' '],\n",
      " [' ', ' ', ' ', 'B', ' ', ' ', ' ', ' ', 'B', ' '],\n",
      " [' ', 'B', ' ', 'B', ' ', ' ', ' ', 'O', ' ', ' '],\n",
      " [' ', ' ', ' ', 'B', 'O', ' ', ' ', ' ', ' ', 'B'],\n",
      " [' ', ' ', 'B', ' ', ' ', 'B', 'B', 'B', ' ', 'B'],\n",
      " [' ', ' ', ' ', ' ', ' ', ' ', 'O', ' ', ' ', 'B'],\n",
      " [' ', ' ', ' ', ' ', ' ', ' ', ' ', ' ', ' ', 'B'],\n",
      " [' ', ' ', ' ', 'B', 'B', ' ', 'B', ' ', ' ', ' ']]\n",
      "Tocado\n",
      "[[' ', ' ', ' ', ' ', ' ', 'B', 'B', 'B', ' ', ' '],\n",
      " ['B', 'B', 'B', 'B', ' ', ' ', ' ', ' ', ' ', ' '],\n",
      " [' ', ' ', ' ', ' ', ' ', ' ', ' ', ' ', ' ', ' '],\n",
      " [' ', ' ', ' ', 'B', ' ', ' ', ' ', ' ', 'B', ' '],\n",
      " [' ', 'B', ' ', 'B', ' ', ' ', ' ', 'O', ' ', ' '],\n",
      " [' ', ' ', ' ', 'B', 'O', ' ', ' ', ' ', ' ', 'B'],\n",
      " [' ', ' ', 'B', ' ', ' ', 'B', 'B', 'X', ' ', 'B'],\n",
      " [' ', ' ', ' ', ' ', ' ', ' ', 'O', ' ', ' ', 'B'],\n",
      " [' ', ' ', ' ', ' ', ' ', ' ', ' ', ' ', ' ', 'B'],\n",
      " [' ', ' ', ' ', 'B', 'B', ' ', 'B', ' ', ' ', ' ']]\n",
      "[[' ', ' ', ' ', ' ', ' ', 'B', 'B', 'B', ' ', ' '],\n",
      " ['B', 'B', 'B', 'B', ' ', ' ', ' ', ' ', ' ', ' '],\n",
      " [' ', ' ', ' ', ' ', ' ', ' ', ' ', ' ', ' ', ' '],\n",
      " [' ', ' ', ' ', 'B', ' ', ' ', ' ', ' ', 'B', ' '],\n",
      " [' ', 'B', ' ', 'B', ' ', ' ', ' ', 'O', ' ', ' '],\n",
      " [' ', ' ', ' ', 'B', 'O', ' ', ' ', ' ', ' ', 'B'],\n",
      " [' ', ' ', 'B', ' ', ' ', 'B', 'B', 'X', ' ', 'B'],\n",
      " [' ', ' ', ' ', ' ', ' ', ' ', 'O', ' ', ' ', 'B'],\n",
      " [' ', ' ', ' ', ' ', ' ', ' ', ' ', ' ', ' ', 'B'],\n",
      " [' ', ' ', ' ', 'B', 'B', ' ', 'B', ' ', ' ', ' ']]\n",
      "Agua\n",
      "[[' ', ' ', ' ', ' ', ' ', 'B', 'B', 'B', ' ', ' '],\n",
      " ['B', 'B', 'B', 'B', ' ', ' ', ' ', ' ', ' ', ' '],\n",
      " [' ', ' ', ' ', ' ', ' ', ' ', ' ', ' ', ' ', ' '],\n",
      " [' ', ' ', ' ', 'B', ' ', ' ', ' ', ' ', 'B', ' '],\n",
      " [' ', 'B', ' ', 'B', ' ', ' ', ' ', 'O', ' ', ' '],\n",
      " [' ', ' ', ' ', 'B', 'O', ' ', ' ', ' ', ' ', 'B'],\n",
      " [' ', ' ', 'B', ' ', ' ', 'B', 'B', 'X', 'O', 'B'],\n",
      " [' ', ' ', ' ', ' ', ' ', ' ', 'O', ' ', ' ', 'B'],\n",
      " [' ', ' ', ' ', ' ', ' ', ' ', ' ', ' ', ' ', 'B'],\n",
      " [' ', ' ', ' ', 'B', 'B', ' ', 'B', ' ', ' ', ' ']]\n"
     ]
    }
   ],
   "source": [
    "#ejemplo de colocar barcos de manera manual \n",
    "\n",
    "barco1 = [(1, 0), (1, 1), (1, 2), (1, 3)]\n",
    "for fila, columna in barco1:\n",
    "    tablero[fila][columna] = \"B\"\n",
    "\n",
    "barco_2= [(3, 3), (4, 3), (5, 3)]\n",
    "for fila, columna in barco_2:\n",
    "    tablero[fila][columna] = \"B\"\n",
    "\n",
    "barco_3 = [(3,8)]\n",
    "for fila, columna in barco_3:\n",
    "    tablero[fila][columna] = \"B\"\n",
    "\n",
    "barco_4 = [(9,6)]\n",
    "for fila, columna in barco_4:\n",
    "    tablero[fila][columna] = \"B\"\n",
    "    \n",
    "barco_5 = [(6,2)]\n",
    "for fila, columna in barco_5:\n",
    "    tablero[fila][columna] = \"B\"\n",
    "\n",
    "\n",
    "barco_6 = [(4,1)]\n",
    "for fila, columna in barco_6:\n",
    "    tablero[fila][columna] = \"B\"\n",
    "    \n",
    "\n",
    "barco_7 = [(9, 3), (9, 4)]\n",
    "for fila, columna in barco_7:\n",
    "    tablero[fila][columna] = \"B\"\n",
    "    \n",
    "barco_8 = [(6, 5), (6, 6)]\n",
    "for fila, columna in barco_8:\n",
    "    tablero[fila][columna] = \"B\"\n",
    "    \n",
    "barco_9 = [(0,5), (0,6), (0,7)]\n",
    "for fila, columna in barco_9:\n",
    "    tablero[fila][columna] = \"B\"\n",
    "    \n",
    "barco_10 = [(5, 9), (6, 9), (7,9), (8, 9)]\n",
    "for fila, columna in barco_10:\n",
    "    tablero[fila][columna] = \"B\"\n",
    "    \n",
    "tablero\n",
    "\n",
    "\n",
    "\n"
   ]
  },
  {
   "cell_type": "code",
   "execution_count": null,
   "metadata": {},
   "outputs": [],
   "source": []
  },
  {
   "cell_type": "code",
   "execution_count": null,
   "metadata": {},
   "outputs": [],
   "source": []
  },
  {
   "cell_type": "code",
   "execution_count": null,
   "metadata": {},
   "outputs": [
    {
     "name": "stdout",
     "output_type": "stream",
     "text": [
      "[[' ', ' ', ' ', ' ', ' ', ' ', ' ', ' ', ' ', ' '],\n",
      " [' ', ' ', ' ', ' ', ' ', ' ', ' ', ' ', ' ', ' '],\n",
      " [' ', ' ', ' ', ' ', 'B', 'B', 'B', 'B', ' ', ' '],\n",
      " [' ', ' ', ' ', ' ', ' ', ' ', ' ', ' ', ' ', ' '],\n",
      " [' ', ' ', ' ', ' ', ' ', ' ', ' ', ' ', ' ', ' '],\n",
      " [' ', ' ', ' ', ' ', ' ', ' ', ' ', ' ', ' ', ' '],\n",
      " [' ', ' ', ' ', ' ', ' ', ' ', ' ', ' ', ' ', ' '],\n",
      " [' ', ' ', ' ', ' ', ' ', ' ', ' ', ' ', ' ', ' '],\n",
      " [' ', ' ', ' ', ' ', ' ', ' ', ' ', ' ', ' ', ' '],\n",
      " [' ', ' ', ' ', ' ', ' ', ' ', ' ', ' ', ' ', ' ']]\n"
     ]
    }
   ],
   "source": [
    "\n",
    "\n",
    "#Intento de colocar los barcos aleatoriamente, pero no sé cómo continuar \n",
    "\n",
    "def BarcoAleatorio(tablero_ord):\n",
    "    longitud_barco = 4 #declaramos esto para tener un limite para no salirse del tablero.\n",
    "    \n",
    "    fila =random.randint(0,9 - longitud_barco) #filaaleatoria\n",
    "    columna =random.randint(0,9-longitud_barco)\n",
    "    \n",
    "    orientacion = random.choice([\"horizontal\", \"vertical\"])\n",
    "    \n",
    "#para colocar el barco horizonbatalmente en el tablero    \n",
    "    for i in range (longitud_barco):\n",
    "        tablero_ord[fila][columna+i] = \"B\"  #coloca el barc en las celdas\n",
    "        \n",
    "    return tablero_ord\n"
   ]
  },
  {
   "cell_type": "code",
   "execution_count": null,
   "metadata": {},
   "outputs": [],
   "source": []
  },
  {
   "cell_type": "code",
   "execution_count": null,
   "metadata": {},
   "outputs": [],
   "source": [
    "def crear_tablero(TAMANO):\n",
    "    tablero_usuario = []\n",
    "    for i in range(TAMANO):\n",
    "        linea = []\n",
    "        for j in range(TAMANO):\n",
    "            linea.append(\" \")\n",
    "        tablero_usuario.append(linea)\n",
    "    return tablero_usuario"
   ]
  },
  {
   "cell_type": "code",
   "execution_count": null,
   "metadata": {},
   "outputs": [],
   "source": []
  }
 ],
 "metadata": {
  "kernelspec": {
   "display_name": "Python 3",
   "language": "python",
   "name": "python3"
  },
  "language_info": {
   "codemirror_mode": {
    "name": "ipython",
    "version": 3
   },
   "file_extension": ".py",
   "mimetype": "text/x-python",
   "name": "python",
   "nbconvert_exporter": "python",
   "pygments_lexer": "ipython3",
   "version": "3.11.9"
  }
 },
 "nbformat": 4,
 "nbformat_minor": 2
}
