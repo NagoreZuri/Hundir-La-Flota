{
 "cells": [
  {
   "cell_type": "code",
   "execution_count": null,
   "metadata": {},
   "outputs": [],
   "source": [
    "#posicionAR BARCO: FILA COLUMNA Y POSICION ALEATORIAMENTE\n",
    "\n",
    "# entrada : longitud BARCO, tablero \n",
    "# 1. genero una fila y una columna y la direccion que queremos \n",
    "# 2 comprobar posición valida! \n",
    "\n",
    "# (1,1) direccion = \"N\" (norte) longitud = 4  si me sale que e sale del tablero,\n",
    "# repetir repetir, hasta que me dé una posición válida \n",
    "\n",
    "# 3, si es valida la posición, colocar barco: sino, lo dicho, repetir hasta que salga una buena. puntos 1,2 y 3\n",
    "\n",
    "#me sale uno nuev,  (1,1) direccion Sur, longitud = 4\n"
   ]
  },
  {
   "cell_type": "code",
   "execution_count": null,
   "metadata": {},
   "outputs": [],
   "source": [
    "#dependiendo de la direccion, necesitamos un bucle que recorra esa dirección \n",
    "\n",
    "# si en alguna de esas casillas que se recorre hay una \"B\", con un if podemos capturar ese ERRor y ir a crear\n",
    " #mas casillas aleatorias\n",
    " \n",
    " # si es valida , con UN FOR, se implementará las B como barcos\n",
    " "
   ]
  },
  {
   "cell_type": "code",
   "execution_count": 1,
   "metadata": {},
   "outputs": [],
   "source": [
    "from HLFfunciones import*"
   ]
  },
  {
   "cell_type": "code",
   "execution_count": 2,
   "metadata": {},
   "outputs": [
    {
     "data": {
      "text/plain": [
       "[[' ', ' ', ' ', ' ', ' ', ' ', ' ', ' ', ' ', ' '],\n",
       " [' ', ' ', ' ', ' ', ' ', ' ', ' ', ' ', ' ', ' '],\n",
       " [' ', ' ', ' ', ' ', ' ', ' ', ' ', ' ', ' ', ' '],\n",
       " [' ', ' ', ' ', ' ', ' ', ' ', ' ', ' ', ' ', ' '],\n",
       " [' ', ' ', ' ', ' ', ' ', ' ', ' ', ' ', ' ', ' '],\n",
       " [' ', ' ', ' ', ' ', ' ', ' ', ' ', ' ', ' ', ' '],\n",
       " [' ', ' ', ' ', ' ', ' ', ' ', ' ', ' ', ' ', ' '],\n",
       " [' ', ' ', ' ', ' ', ' ', ' ', ' ', ' ', ' ', ' '],\n",
       " [' ', ' ', ' ', ' ', ' ', ' ', ' ', ' ', ' ', ' '],\n",
       " [' ', ' ', ' ', ' ', ' ', ' ', ' ', ' ', ' ', ' ']]"
      ]
     },
     "execution_count": 2,
     "metadata": {},
     "output_type": "execute_result"
    }
   ],
   "source": [
    "#Pruebas colocar barcos\n",
    "#IMPORTAR FUNCIONES \n",
    "\n",
    "tablero = crear_tablero(10)\n",
    "\n",
    "tablero"
   ]
  },
  {
   "cell_type": "code",
   "execution_count": null,
   "metadata": {},
   "outputs": [],
   "source": []
  }
 ],
 "metadata": {
  "kernelspec": {
   "display_name": "Python 3",
   "language": "python",
   "name": "python3"
  },
  "language_info": {
   "codemirror_mode": {
    "name": "ipython",
    "version": 3
   },
   "file_extension": ".py",
   "mimetype": "text/x-python",
   "name": "python",
   "nbconvert_exporter": "python",
   "pygments_lexer": "ipython3",
   "version": "3.11.9"
  }
 },
 "nbformat": 4,
 "nbformat_minor": 2
}
